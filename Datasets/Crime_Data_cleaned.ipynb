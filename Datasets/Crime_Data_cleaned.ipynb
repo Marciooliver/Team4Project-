{
 "cells": [
  {
   "cell_type": "code",
   "execution_count": 1,
   "metadata": {},
   "outputs": [],
   "source": [
    "import pandas as pd\n",
    "import numpy as np"
   ]
  },
  {
   "cell_type": "code",
   "execution_count": 2,
   "metadata": {},
   "outputs": [],
   "source": [
    "file_crime2008 = \"Datasets/By Neighborhood Cluster/Crime_Incidents_in_2008.csv\"\n",
    "file_crime2009 = \"Datasets/By Neighborhood Cluster/Crime_Incidents_in_2009.csv\"\n",
    "file_crime2010 = \"Datasets/By Neighborhood Cluster/Crime_Incidents_in_2010.csv\"\n",
    "file_crime2011 = \"Datasets/By Neighborhood Cluster/Crime_Incidents_in_2011.csv\"\n",
    "file_crime2012 = \"Datasets/By Neighborhood Cluster/Crime_Incidents_in_2012.csv\"\n",
    "file_crime2013 = \"Datasets/By Neighborhood Cluster/Crime_Incidents_in_2013.csv\"\n",
    "file_crime2014 = \"Datasets/By Neighborhood Cluster/Crime_Incidents_in_2014.csv\"\n",
    "file_crime2015 = \"Datasets/By Neighborhood Cluster/Crime_Incidents_in_2015.csv\"\n",
    "file_crime2016 = \"Datasets/By Neighborhood Cluster/Crime_Incidents_in_2016.csv\""
   ]
  },
  {
   "cell_type": "code",
   "execution_count": 57,
   "metadata": {},
   "outputs": [],
   "source": [
    "df2008 = pd.read_csv(file_crime2008)\n",
    "df_reduced2008 = df2008.drop([\"X\", \"Y\", \"CCN\", \"REPORT_DAT\", \"METHOD\", \"BLOCK\", \"XBLOCK\", \"YBLOCK\",\n",
    "    \"WARD\", \"ANC\", \"DISTRICT\", \"PSA\", \"BLOCK_GROUP\", \"CENSUS_TRACT\", \"VOTING_PRECINCT\", \"LATITUDE\", \"LONGITUDE\", \"BID\", \"START_DATE\",\n",
    "    \"END_DATE\", \"OBJECTID\", \"OCTO_RECORD_ID\"], axis=1)\n",
    "df_reduced2008[\"YEAR\"] = 2008\n",
    "\n",
    "df2009 = pd.read_csv(file_crime2009)\n",
    "df_reduced2009 = df2009.drop([\"X\", \"Y\", \"CCN\", \"REPORT_DAT\", \"METHOD\", \"BLOCK\", \"XBLOCK\", \"YBLOCK\",\n",
    "    \"WARD\", \"ANC\", \"DISTRICT\", \"PSA\", \"BLOCK_GROUP\", \"CENSUS_TRACT\", \"VOTING_PRECINCT\", \"LATITUDE\", \"LONGITUDE\", \"BID\", \"START_DATE\",\n",
    "    \"END_DATE\", \"OBJECTID\", \"OCTO_RECORD_ID\"], axis=1)\n",
    "df_reduced2009[\"YEAR\"] = 2009\n",
    "\n",
    "df2010 = pd.read_csv(file_crime2010)\n",
    "df_reduced2010 = df2010.drop([\"X\", \"Y\", \"CCN\", \"REPORT_DAT\", \"METHOD\", \"BLOCK\", \"XBLOCK\", \"YBLOCK\",\n",
    "    \"WARD\", \"ANC\", \"DISTRICT\", \"PSA\", \"BLOCK_GROUP\", \"CENSUS_TRACT\", \"VOTING_PRECINCT\", \"LATITUDE\", \"LONGITUDE\", \"BID\", \"START_DATE\",\n",
    "    \"END_DATE\", \"OBJECTID\", \"OCTO_RECORD_ID\"], axis=1)\n",
    "df_reduced2010[\"YEAR\"] = 2010\n",
    "\n",
    "df2011 = pd.read_csv(file_crime2011)\n",
    "df_reduced2011 = df2011.drop([\"X\", \"Y\", \"CCN\", \"REPORT_DAT\", \"METHOD\", \"BLOCK\", \"XBLOCK\", \"YBLOCK\",\n",
    "    \"WARD\", \"ANC\", \"DISTRICT\", \"PSA\", \"BLOCK_GROUP\", \"CENSUS_TRACT\", \"VOTING_PRECINCT\", \"LATITUDE\", \"LONGITUDE\", \"BID\", \"START_DATE\",\n",
    "    \"END_DATE\", \"OBJECTID\", \"OCTO_RECORD_ID\"], axis=1)\n",
    "df_reduced2011[\"YEAR\"] = 2011\n",
    "\n",
    "df2012 = pd.read_csv(file_crime2012)\n",
    "df_reduced2012 = df2012.drop([\"X\", \"Y\", \"CCN\", \"REPORT_DAT\", \"METHOD\", \"BLOCK\", \"XBLOCK\", \"YBLOCK\",\n",
    "    \"WARD\", \"ANC\", \"DISTRICT\", \"PSA\", \"BLOCK_GROUP\", \"CENSUS_TRACT\", \"VOTING_PRECINCT\", \"LATITUDE\", \"LONGITUDE\", \"BID\", \"START_DATE\",\n",
    "    \"END_DATE\", \"OBJECTID\", \"OCTO_RECORD_ID\"], axis=1)\n",
    "df_reduced2012[\"YEAR\"] = 2012\n",
    "\n",
    "df2013 = pd.read_csv(file_crime2013)\n",
    "df_reduced2013 = df2013.drop([\"X\", \"Y\", \"CCN\", \"REPORT_DAT\", \"METHOD\", \"BLOCK\", \"XBLOCK\", \"YBLOCK\",\n",
    "    \"WARD\", \"ANC\", \"DISTRICT\", \"PSA\", \"BLOCK_GROUP\", \"CENSUS_TRACT\", \"VOTING_PRECINCT\", \"LATITUDE\", \"LONGITUDE\", \"BID\", \"START_DATE\",\n",
    "    \"END_DATE\", \"OBJECTID\", \"OCTO_RECORD_ID\"], axis=1)\n",
    "df_reduced2013[\"YEAR\"] = 2013\n",
    "\n",
    "df2014 = pd.read_csv(file_crime2014)\n",
    "df_reduced2014 = df2014.drop([\"X\", \"Y\", \"CCN\", \"REPORT_DAT\", \"METHOD\", \"BLOCK\", \"XBLOCK\", \"YBLOCK\",\n",
    "    \"WARD\", \"ANC\", \"DISTRICT\", \"PSA\", \"BLOCK_GROUP\", \"CENSUS_TRACT\", \"VOTING_PRECINCT\", \"LATITUDE\", \"LONGITUDE\", \"BID\", \"START_DATE\",\n",
    "    \"END_DATE\", \"OBJECTID\", \"OCTO_RECORD_ID\"], axis=1)\n",
    "df_reduced2014[\"YEAR\"] = 2014\n",
    "\n",
    "df2015 = pd.read_csv(file_crime2015)\n",
    "df_reduced2015 = df2015.drop([\"X\", \"Y\", \"CCN\", \"REPORT_DAT\", \"METHOD\", \"BLOCK\", \"XBLOCK\", \"YBLOCK\",\n",
    "    \"WARD\", \"ANC\", \"DISTRICT\", \"PSA\", \"BLOCK_GROUP\", \"CENSUS_TRACT\", \"VOTING_PRECINCT\", \"LATITUDE\", \"LONGITUDE\", \"BID\", \"START_DATE\",\n",
    "    \"END_DATE\", \"OBJECTID\", \"OCTO_RECORD_ID\"], axis=1)\n",
    "df_reduced2015[\"YEAR\"] = 2015\n",
    "\n",
    "df2016 = pd.read_csv(file_crime2016)\n",
    "df_reduced2016 = df2016.drop([\"X\", \"Y\", \"CCN\", \"REPORT_DAT\", \"METHOD\", \"BLOCK\", \"XBLOCK\", \"YBLOCK\",\n",
    "    \"WARD\", \"ANC\", \"DISTRICT\", \"PSA\", \"BLOCK_GROUP\", \"CENSUS_TRACT\", \"VOTING_PRECINCT\", \"LATITUDE\", \"LONGITUDE\", \"BID\", \"START_DATE\",\n",
    "    \"END_DATE\", \"OBJECTID\", \"OCTO_RECORD_ID\"], axis=1)\n",
    "df_reduced2016[\"YEAR\"] = 2016"
   ]
  },
  {
   "cell_type": "code",
   "execution_count": 74,
   "metadata": {},
   "outputs": [],
   "source": [
    "grouped_2008 = df_reduced2008.groupby([\"YEAR\",\"NEIGHBORHOOD_CLUSTER\",\"OFFENSE\"])[\"SHIFT\"].value_counts()\n",
    "grouped_2008_df = pd.DataFrame({\"NUMBER OF CRIMES\":grouped_2008})\n",
    "\n",
    "grouped_2009 = df_reduced2009.groupby([\"YEAR\",\"NEIGHBORHOOD_CLUSTER\",\"OFFENSE\"])[\"SHIFT\"].value_counts()\n",
    "grouped_2009_df = pd.DataFrame({\"NUMBER OF CRIMES\":grouped_2009})\n",
    "\n",
    "grouped_2010 = df_reduced2010.groupby([\"YEAR\",\"NEIGHBORHOOD_CLUSTER\",\"OFFENSE\"])[\"SHIFT\"].value_counts()\n",
    "grouped_2010_df = pd.DataFrame({\"NUMBER OF CRIMES\":grouped_2010})\n",
    "\n",
    "grouped_2011 = df_reduced2011.groupby([\"YEAR\",\"NEIGHBORHOOD_CLUSTER\",\"OFFENSE\"])[\"SHIFT\"].value_counts()\n",
    "grouped_2011_df = pd.DataFrame({\"NUMBER OF CRIMES\":grouped_2011})\n",
    "\n",
    "grouped_2012 = df_reduced2012.groupby([\"YEAR\",\"NEIGHBORHOOD_CLUSTER\",\"OFFENSE\"])[\"SHIFT\"].value_counts()\n",
    "grouped_2012_df = pd.DataFrame({\"NUMBER OF CRIMES\":grouped_2012})\n",
    "\n",
    "grouped_2013 = df_reduced2013.groupby([\"YEAR\",\"NEIGHBORHOOD_CLUSTER\",\"OFFENSE\"])[\"SHIFT\"].value_counts()\n",
    "grouped_2013_df = pd.DataFrame({\"NUMBER OF CRIMES\":grouped_2013})\n",
    "\n",
    "grouped_2014 = df_reduced2014.groupby([\"YEAR\",\"NEIGHBORHOOD_CLUSTER\",\"OFFENSE\"])[\"SHIFT\"].value_counts()\n",
    "grouped_2014_df = pd.DataFrame({\"NUMBER OF CRIMES\":grouped_2014})\n",
    "\n",
    "grouped_2015 = df_reduced2015.groupby([\"YEAR\",\"NEIGHBORHOOD_CLUSTER\",\"OFFENSE\"])[\"SHIFT\"].value_counts()\n",
    "grouped_2015_df = pd.DataFrame({\"NUMBER OF CRIMES\":grouped_2015})\n",
    "\n",
    "grouped_2016 = df_reduced2016.groupby([\"YEAR\",\"NEIGHBORHOOD_CLUSTER\",\"OFFENSE\"])[\"SHIFT\"].value_counts()\n",
    "grouped_2016_df = pd.DataFrame({\"NUMBER OF CRIMES\":grouped_2016})"
   ]
  },
  {
   "cell_type": "code",
   "execution_count": 76,
   "metadata": {},
   "outputs": [],
   "source": [
    "years = [grouped_2008_df, grouped_2009_df, grouped_2010_df, grouped_2011_df, grouped_2012_df,\n",
    "    grouped_2013_df, grouped_2014_df, grouped_2015_df, grouped_2016_df\n",
    "]\n",
    "master_list = pd.concat(years)"
   ]
  },
  {
   "cell_type": "code",
   "execution_count": 78,
   "metadata": {},
   "outputs": [],
   "source": [
    "master_list.to_csv(\"Datasets/Crimes_Incidents_from_2008-2016.csv\")"
   ]
  }
 ],
 "metadata": {
  "kernelspec": {
   "display_name": "Python 3",
   "language": "python",
   "name": "python3"
  },
  "language_info": {
   "codemirror_mode": {
    "name": "ipython",
    "version": 3
   },
   "file_extension": ".py",
   "mimetype": "text/x-python",
   "name": "python",
   "nbconvert_exporter": "python",
   "pygments_lexer": "ipython3",
   "version": "3.7.4"
  }
 },
 "nbformat": 4,
 "nbformat_minor": 2
}
